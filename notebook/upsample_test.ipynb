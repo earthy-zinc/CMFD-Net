{
 "cells": [
  {
   "cell_type": "code",
   "execution_count": 1,
   "id": "initial_id",
   "metadata": {
    "collapsed": true,
    "ExecuteTime": {
     "end_time": "2024-02-27T03:02:21.511850Z",
     "start_time": "2024-02-27T03:02:18.305513Z"
    }
   },
   "outputs": [
    {
     "data": {
      "text/plain": "torch.Size([1, 3, 32, 32])"
     },
     "execution_count": 1,
     "metadata": {},
     "output_type": "execute_result"
    }
   ],
   "source": [
    "import torch\n",
    "\n",
    "# 假设 x 是一个输入张量\n",
    "x = torch.randn(1, 3, 16, 16)  # 3D 输入数据，形状为 mini-batch x channels x height x width\n",
    "\n",
    "# 使用双线性插值法将 x 上采样到指定的尺寸\n",
    "upsampled_x = torch.nn.functional.interpolate(x, size=(32, 32), mode='bilinear', align_corners=False)\n",
    "upsampled_x.shape\n"
   ]
  },
  {
   "cell_type": "code",
   "outputs": [],
   "source": [
    "from torch import nn\n",
    "\n",
    "\n",
    "class Upsample(nn.Module):\n",
    "    def __init__(self, input_feat,out_feat):\n",
    "        super(Upsample, self).__init__()\n",
    "\n",
    "        self.body = nn.Sequential(  # nn.Conv2d(n_feat, n_feat*2, kernel_size=3, stride=1, padding=1, bias=False),\n",
    "            # dw\n",
    "            nn.Conv2d(input_feat, input_feat, kernel_size=3, stride=1, padding=1, groups=input_feat, bias=False, ),\n",
    "            # pw-linear\n",
    "            nn.Conv2d(input_feat, out_feat * 4, 1, 1, 0, bias=False),\n",
    "            # nn.BatchNorm2d(n_feat*2),\n",
    "            # nn.Hardswish(),\n",
    "            nn.PixelShuffle(2))\n",
    "\n",
    "    def forward(self, x):\n",
    "        return self.body(x)\n"
   ],
   "metadata": {
    "collapsed": false,
    "ExecuteTime": {
     "end_time": "2024-02-27T03:07:15.761196Z",
     "start_time": "2024-02-27T03:07:15.757370Z"
    }
   },
   "id": "867050a6cacd7aee",
   "execution_count": 3
  },
  {
   "cell_type": "code",
   "outputs": [],
   "source": [
    "y = torch.randn(1, 16, 8, 8)\n"
   ],
   "metadata": {
    "collapsed": false,
    "ExecuteTime": {
     "end_time": "2024-02-27T03:08:48.681830Z",
     "start_time": "2024-02-27T03:08:48.679647Z"
    }
   },
   "id": "82e4f184b9df16b7",
   "execution_count": 7
  },
  {
   "cell_type": "code",
   "outputs": [
    {
     "data": {
      "text/plain": "torch.Size([1, 32, 16, 16])"
     },
     "execution_count": 8,
     "metadata": {},
     "output_type": "execute_result"
    }
   ],
   "source": [
    "upsample = Upsample(16, 32)\n",
    "result = upsample(y)\n",
    "result.shape"
   ],
   "metadata": {
    "collapsed": false,
    "ExecuteTime": {
     "end_time": "2024-02-27T03:08:49.942280Z",
     "start_time": "2024-02-27T03:08:49.921168Z"
    }
   },
   "id": "a4597cbda39bf522",
   "execution_count": 8
  },
  {
   "cell_type": "code",
   "outputs": [],
   "source": [
    "class Downsample(nn.Module):\n",
    "    def __init__(self, input_feat,out_feat):\n",
    "        super(Downsample, self).__init__()\n",
    "\n",
    "        self.body = nn.Sequential(  # nn.Conv2d(n_feat, n_feat // 2, kernel_size=3, stride=1, padding=1, bias=False),\n",
    "            # dw\n",
    "            nn.Conv2d(input_feat, input_feat, kernel_size=3, stride=1, padding=1, groups=input_feat, bias=False, ),\n",
    "            # pw-linear\n",
    "            nn.Conv2d(input_feat, out_feat // 4, 1, 1, 0, bias=False),\n",
    "            # nn.BatchNorm2d(n_feat // 2),\n",
    "            # nn.Hardswish(),\n",
    "            nn.PixelUnshuffle(2))\n",
    "\n",
    "    def forward(self, x):\n",
    "        return self.body(x)\n"
   ],
   "metadata": {
    "collapsed": false,
    "ExecuteTime": {
     "end_time": "2024-02-27T03:09:39.599165Z",
     "start_time": "2024-02-27T03:09:39.596331Z"
    }
   },
   "id": "296103df389bb6ec",
   "execution_count": 9
  },
  {
   "cell_type": "code",
   "outputs": [
    {
     "data": {
      "text/plain": "torch.Size([1, 8, 4, 4])"
     },
     "execution_count": 10,
     "metadata": {},
     "output_type": "execute_result"
    }
   ],
   "source": [
    "downsample = Downsample(16, 8)\n",
    "result_2 = downsample(y)\n",
    "result_2.shape"
   ],
   "metadata": {
    "collapsed": false,
    "ExecuteTime": {
     "end_time": "2024-02-27T03:10:23.957493Z",
     "start_time": "2024-02-27T03:10:23.943940Z"
    }
   },
   "id": "865b4a4d5f346dfd",
   "execution_count": 10
  },
  {
   "cell_type": "code",
   "outputs": [
    {
     "data": {
      "text/plain": "[0.0,\n 0.021739130839705467,\n 0.043478261679410934,\n 0.06521739065647125,\n 0.08695652335882187,\n 0.10869565606117249,\n 0.1304347813129425,\n 0.15217392146587372,\n 0.17391304671764374,\n 0.19565217196941376,\n 0.21739131212234497,\n 0.239130437374115,\n 0.260869562625885,\n 0.28260868787765503,\n 0.30434781312942505,\n 0.32608693838119507,\n 0.3478260636329651,\n 0.3695652186870575,\n 0.3913043439388275,\n 0.41304346919059753,\n 0.43478262424468994,\n 0.45652174949645996,\n 0.47826087474823,\n 0.5]"
     },
     "execution_count": 11,
     "metadata": {},
     "output_type": "execute_result"
    }
   ],
   "source": [
    "depths=[2, 2, 18, 2]\n",
    "dpr = [\n",
    "    x.item() for x in torch.linspace(0, 0.5, sum(depths))\n",
    "] \n",
    "dpr"
   ],
   "metadata": {
    "collapsed": false,
    "ExecuteTime": {
     "end_time": "2024-02-28T04:27:25.458820Z",
     "start_time": "2024-02-28T04:27:25.445448Z"
    }
   },
   "id": "89d2ae6180006396",
   "execution_count": 11
  },
  {
   "cell_type": "code",
   "outputs": [
    {
     "data": {
      "text/plain": "0"
     },
     "execution_count": 12,
     "metadata": {},
     "output_type": "execute_result"
    }
   ],
   "source": [
    "sum(depths[:0])"
   ],
   "metadata": {
    "collapsed": false,
    "ExecuteTime": {
     "end_time": "2024-02-28T04:28:13.088757Z",
     "start_time": "2024-02-28T04:28:13.085098Z"
    }
   },
   "id": "74dcc431ce4de652",
   "execution_count": 12
  },
  {
   "cell_type": "code",
   "outputs": [
    {
     "data": {
      "text/plain": "2"
     },
     "execution_count": 13,
     "metadata": {},
     "output_type": "execute_result"
    }
   ],
   "source": [
    "sum(depths[:1])"
   ],
   "metadata": {
    "collapsed": false,
    "ExecuteTime": {
     "end_time": "2024-02-28T04:28:24.383871Z",
     "start_time": "2024-02-28T04:28:24.380341Z"
    }
   },
   "id": "995615c65977d205",
   "execution_count": 13
  },
  {
   "cell_type": "code",
   "outputs": [
    {
     "data": {
      "text/plain": "[0.0, 0.021739130839705467]"
     },
     "execution_count": 14,
     "metadata": {},
     "output_type": "execute_result"
    }
   ],
   "source": [
    "dpr[0:2]"
   ],
   "metadata": {
    "collapsed": false,
    "ExecuteTime": {
     "end_time": "2024-02-28T04:28:33.832713Z",
     "start_time": "2024-02-28T04:28:33.829294Z"
    }
   },
   "id": "9390ca8a1cfa29fb",
   "execution_count": 14
  },
  {
   "cell_type": "code",
   "outputs": [],
   "source": [
    "class BasicConv2d(nn.Module):\n",
    "    def __init__(self, in_planes, out_planes, kernel_size, stride=1, padding=0, dilation=1):\n",
    "        super(BasicConv2d, self).__init__()\n",
    "\n",
    "        self.conv = nn.Conv2d(in_planes, out_planes,\n",
    "                              kernel_size=kernel_size, stride=stride,\n",
    "                              padding=padding, dilation=dilation, bias=False)\n",
    "        self.bn = nn.BatchNorm2d(out_planes)\n",
    "\n",
    "    def forward(self, x):\n",
    "        x = self.conv(x)\n",
    "        x = self.bn(x)\n",
    "        return x"
   ],
   "metadata": {
    "collapsed": false,
    "ExecuteTime": {
     "end_time": "2024-02-28T05:19:59.614655Z",
     "start_time": "2024-02-28T05:19:59.611398Z"
    }
   },
   "id": "410f1be10900d030",
   "execution_count": 15
  },
  {
   "cell_type": "code",
   "outputs": [
    {
     "data": {
      "text/plain": "torch.Size([1, 256, 32, 32])"
     },
     "execution_count": 67,
     "metadata": {},
     "output_type": "execute_result"
    }
   ],
   "source": [
    "x = torch.randn(1, 512, 32, 32)\n",
    "conv1 = BasicConv2d(512, 256, 1, stride=1, padding=0, dilation=1)\n",
    "x = conv1(x)\n",
    "x.shape"
   ],
   "metadata": {
    "collapsed": false,
    "ExecuteTime": {
     "end_time": "2024-02-28T05:42:44.770512Z",
     "start_time": "2024-02-28T05:42:44.763353Z"
    }
   },
   "id": "bf6d54c0aec6fe5",
   "execution_count": 67
  },
  {
   "cell_type": "code",
   "outputs": [
    {
     "data": {
      "text/plain": "torch.Size([1, 256, 64, 64])"
     },
     "execution_count": 68,
     "metadata": {},
     "output_type": "execute_result"
    }
   ],
   "source": [
    "up = nn.Upsample(scale_factor=2, mode='bilinear', align_corners=True)\n",
    "\n",
    "y = up(x)\n",
    "y.shape\n"
   ],
   "metadata": {
    "collapsed": false,
    "ExecuteTime": {
     "end_time": "2024-02-28T05:42:44.854322Z",
     "start_time": "2024-02-28T05:42:44.848439Z"
    }
   },
   "id": "5c2fae9428c4f331",
   "execution_count": 68
  },
  {
   "cell_type": "code",
   "outputs": [
    {
     "data": {
      "text/plain": "tensor([[[[ 0.0172,  0.0172,  0.0172,  ...,  0.0172,  0.0172,  0.0172],\n          [ 0.0172,  0.0172,  0.0172,  ...,  0.0172,  0.0172,  0.0172],\n          [ 0.0172,  0.0172,  0.0172,  ...,  0.0172,  0.0172,  0.0172],\n          ...,\n          [ 0.0172,  0.0172,  0.0172,  ...,  0.0172,  0.0172,  0.0172],\n          [ 0.0172,  0.0172,  0.0172,  ...,  0.0172,  0.0172,  0.0172],\n          [ 0.0172,  0.0172,  0.0172,  ...,  0.0172,  0.0172,  0.0172]],\n\n         [[-0.0098, -0.0098, -0.0098,  ..., -0.0098, -0.0098, -0.0098],\n          [-0.0098, -0.0098, -0.0098,  ..., -0.0098, -0.0098, -0.0098],\n          [-0.0098, -0.0098, -0.0098,  ..., -0.0098, -0.0098, -0.0098],\n          ...,\n          [-0.0098, -0.0098, -0.0098,  ..., -0.0098, -0.0098, -0.0098],\n          [-0.0098, -0.0098, -0.0098,  ..., -0.0098, -0.0098, -0.0098],\n          [-0.0098, -0.0098, -0.0098,  ..., -0.0098, -0.0098, -0.0098]],\n\n         [[ 0.0138,  0.0138,  0.0138,  ...,  0.0138,  0.0138,  0.0138],\n          [ 0.0138,  0.0138,  0.0138,  ...,  0.0138,  0.0138,  0.0138],\n          [ 0.0138,  0.0138,  0.0138,  ...,  0.0138,  0.0138,  0.0138],\n          ...,\n          [ 0.0138,  0.0138,  0.0138,  ...,  0.0138,  0.0138,  0.0138],\n          [ 0.0138,  0.0138,  0.0138,  ...,  0.0138,  0.0138,  0.0138],\n          [ 0.0138,  0.0138,  0.0138,  ...,  0.0138,  0.0138,  0.0138]],\n\n         ...,\n\n         [[ 0.0320,  0.0320,  0.0320,  ...,  0.0320,  0.0320,  0.0320],\n          [ 0.0320,  0.0320,  0.0320,  ...,  0.0320,  0.0320,  0.0320],\n          [ 0.0320,  0.0320,  0.0320,  ...,  0.0320,  0.0320,  0.0320],\n          ...,\n          [ 0.0320,  0.0320,  0.0320,  ...,  0.0320,  0.0320,  0.0320],\n          [ 0.0320,  0.0320,  0.0320,  ...,  0.0320,  0.0320,  0.0320],\n          [ 0.0320,  0.0320,  0.0320,  ...,  0.0320,  0.0320,  0.0320]],\n\n         [[ 0.0149,  0.0149,  0.0149,  ...,  0.0149,  0.0149,  0.0149],\n          [ 0.0149,  0.0149,  0.0149,  ...,  0.0149,  0.0149,  0.0149],\n          [ 0.0149,  0.0149,  0.0149,  ...,  0.0149,  0.0149,  0.0149],\n          ...,\n          [ 0.0149,  0.0149,  0.0149,  ...,  0.0149,  0.0149,  0.0149],\n          [ 0.0149,  0.0149,  0.0149,  ...,  0.0149,  0.0149,  0.0149],\n          [ 0.0149,  0.0149,  0.0149,  ...,  0.0149,  0.0149,  0.0149]],\n\n         [[ 0.0179,  0.0179,  0.0179,  ...,  0.0179,  0.0179,  0.0179],\n          [ 0.0179,  0.0179,  0.0179,  ...,  0.0179,  0.0179,  0.0179],\n          [ 0.0179,  0.0179,  0.0179,  ...,  0.0179,  0.0179,  0.0179],\n          ...,\n          [ 0.0179,  0.0179,  0.0179,  ...,  0.0179,  0.0179,  0.0179],\n          [ 0.0179,  0.0179,  0.0179,  ...,  0.0179,  0.0179,  0.0179],\n          [ 0.0179,  0.0179,  0.0179,  ...,  0.0179,  0.0179,  0.0179]]]],\n       grad_fn=<UpsampleBilinear2DBackward0>)"
     },
     "execution_count": 60,
     "metadata": {},
     "output_type": "execute_result"
    }
   ],
   "source": [
    "y"
   ],
   "metadata": {
    "collapsed": false,
    "ExecuteTime": {
     "end_time": "2024-02-28T05:36:15.166798Z",
     "start_time": "2024-02-28T05:36:15.162148Z"
    }
   },
   "id": "60f73b56abd29bfd",
   "execution_count": 60
  },
  {
   "cell_type": "code",
   "outputs": [],
   "source": [],
   "metadata": {
    "collapsed": false
   },
   "id": "172df5ebcee7c327"
  }
 ],
 "metadata": {
  "kernelspec": {
   "display_name": "Python 3",
   "language": "python",
   "name": "python3"
  },
  "language_info": {
   "codemirror_mode": {
    "name": "ipython",
    "version": 2
   },
   "file_extension": ".py",
   "mimetype": "text/x-python",
   "name": "python",
   "nbconvert_exporter": "python",
   "pygments_lexer": "ipython2",
   "version": "2.7.6"
  }
 },
 "nbformat": 4,
 "nbformat_minor": 5
}
