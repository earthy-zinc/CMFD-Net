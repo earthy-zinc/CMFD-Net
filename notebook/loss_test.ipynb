{
 "cells": [
  {
   "cell_type": "markdown",
   "source": [
    "# 损失函数测试"
   ],
   "metadata": {
    "collapsed": false
   },
   "id": "12bd1d8f8702a1b1"
  },
  {
   "cell_type": "code",
   "execution_count": 6,
   "outputs": [],
   "source": [
    "import platform\n",
    "if platform.system() == 'Windows':\n",
    "    !set BASICSR_JIT=True\n",
    "else:\n",
    "    !BASICSR_JIT=True\n",
    "import torch\n",
    "from basicsr import GANLoss"
   ],
   "metadata": {
    "collapsed": true,
    "ExecuteTime": {
     "end_time": "2024-01-18T07:30:54.293048Z",
     "start_time": "2024-01-18T07:30:54.277849300Z"
    }
   },
   "id": "initial_id"
  },
  {
   "cell_type": "markdown",
   "source": [
    "https://blog.csdn.net/daimashiren/article/details/123279408"
   ],
   "metadata": {
    "collapsed": false
   },
   "id": "6d9f68d544a6a7f4"
  },
  {
   "cell_type": "code",
   "execution_count": 8,
   "outputs": [],
   "source": [
    "gan_loss = GANLoss('hinge')"
   ],
   "metadata": {
    "collapsed": false,
    "ExecuteTime": {
     "end_time": "2024-01-18T07:32:43.448365800Z",
     "start_time": "2024-01-18T07:32:43.446338300Z"
    }
   },
   "id": "fc99380204b390ac"
  },
  {
   "cell_type": "code",
   "execution_count": 9,
   "outputs": [],
   "source": [
    "zero_inputs = torch.zeros((3, 256, 256))\n",
    "one_inputs = torch.ones((3, 256, 256))"
   ],
   "metadata": {
    "collapsed": false,
    "ExecuteTime": {
     "end_time": "2024-01-18T07:33:45.043710500Z",
     "start_time": "2024-01-18T07:33:45.037524200Z"
    }
   },
   "id": "6189e29ab738c81e"
  },
  {
   "cell_type": "code",
   "execution_count": 10,
   "outputs": [
    {
     "name": "stdout",
     "output_type": "stream",
     "text": [
      "tensor(1.)\n",
      "tensor(1.)\n"
     ]
    }
   ],
   "source": [
    "# 全零为真则损失为1\n",
    "print(gan_loss(zero_inputs, True, True))\n",
    "# 全零为假则损失也是1\n",
    "print(gan_loss(zero_inputs, False, True))"
   ],
   "metadata": {
    "collapsed": false,
    "ExecuteTime": {
     "end_time": "2024-01-18T07:34:09.831700400Z",
     "start_time": "2024-01-18T07:34:09.824348100Z"
    }
   },
   "id": "f33b317931942a04"
  },
  {
   "cell_type": "code",
   "execution_count": 11,
   "outputs": [
    {
     "name": "stdout",
     "output_type": "stream",
     "text": [
      "tensor(0.)\n",
      "tensor(2.)\n"
     ]
    }
   ],
   "source": [
    "# 全1为真则损失为0\n",
    "print(gan_loss(one_inputs, True, True))\n",
    "# 全1为假则损失为2\n",
    "print(gan_loss(one_inputs, False, True))"
   ],
   "metadata": {
    "collapsed": false,
    "ExecuteTime": {
     "end_time": "2024-01-18T07:34:15.395087200Z",
     "start_time": "2024-01-18T07:34:15.390006800Z"
    }
   },
   "id": "b7b3992d88762e51"
  },
  {
   "cell_type": "code",
   "execution_count": 12,
   "outputs": [
    {
     "name": "stdout",
     "output_type": "stream",
     "text": [
      "tensor(2.)\n",
      "tensor(0.)\n"
     ]
    }
   ],
   "source": [
    "# 全-1为真则损失为2\n",
    "print(gan_loss(-one_inputs, True, True))\n",
    "# 全-1为假则损失为0\n",
    "print(gan_loss(-one_inputs, False, True))"
   ],
   "metadata": {
    "collapsed": false,
    "ExecuteTime": {
     "end_time": "2024-01-18T07:34:17.105383400Z",
     "start_time": "2024-01-18T07:34:17.099824800Z"
    }
   },
   "id": "cbdbff665e5fd9d3"
  },
  {
   "cell_type": "markdown",
   "source": [
    "所以该损失函数的是将所有值为1的当作真值，而所有值为-1的当作假值\n",
    "判别器的训练目标是让真实图像经过判别器处理后尽量输出为1，而虚假图像经过判别器处理后尽量输出为-1\n",
    "当生成器生成的图像经过判别器处理后值为1，则说明生成器和判别器训练完成\n"
   ],
   "metadata": {
    "collapsed": false
   },
   "id": "6847e1a8d39d54ec"
  },
  {
   "cell_type": "code",
   "execution_count": 13,
   "outputs": [
    {
     "name": "stdout",
     "output_type": "stream",
     "text": [
      "tensor(0.)\n",
      "tensor(0.)\n"
     ]
    }
   ],
   "source": [
    "print(gan_loss(torch.tensor([9., 9.]), True, True))\n",
    "print(gan_loss(torch.tensor([1., 1.]), True, True))"
   ],
   "metadata": {
    "collapsed": false,
    "ExecuteTime": {
     "end_time": "2024-01-18T07:35:08.167628800Z",
     "start_time": "2024-01-18T07:35:08.149442100Z"
    }
   },
   "id": "922b946dfe4aa4ca"
  },
  {
   "cell_type": "code",
   "execution_count": 14,
   "outputs": [
    {
     "name": "stdout",
     "output_type": "stream",
     "text": [
      "tensor(0.0010)\n",
      "tensor(0.1000)\n",
      "tensor(0.5000)\n",
      "tensor(0.9000)\n",
      "tensor(0.9900)\n"
     ]
    }
   ],
   "source": [
    "print(gan_loss(torch.tensor([0.999, 0.999]), True, True))\n",
    "print(gan_loss(torch.tensor([0.9, 0.9]), True, True))\n",
    "print(gan_loss(torch.tensor([0.5, 0.5]), True, True))\n",
    "print(gan_loss(torch.tensor([0.1, 0.1]), True, True))\n",
    "print(gan_loss(torch.tensor([0.01, 0.01]), True, True))"
   ],
   "metadata": {
    "collapsed": false,
    "ExecuteTime": {
     "end_time": "2024-01-18T07:35:15.969561300Z",
     "start_time": "2024-01-18T07:35:15.964045300Z"
    }
   },
   "id": "f6abc7fb7df8e1c9"
  },
  {
   "cell_type": "code",
   "execution_count": 15,
   "outputs": [
    {
     "name": "stdout",
     "output_type": "stream",
     "text": [
      "tensor(1.)\n",
      "tensor(2.)\n",
      "tensor(10.)\n"
     ]
    }
   ],
   "source": [
    "print(gan_loss(torch.tensor([0., 0.]), True, True))\n",
    "print(gan_loss(torch.tensor([-1., -1.]), True, True))\n",
    "print(gan_loss(torch.tensor([-9., -9.]), True, True))"
   ],
   "metadata": {
    "collapsed": false,
    "ExecuteTime": {
     "end_time": "2024-01-18T07:35:18.216012200Z",
     "start_time": "2024-01-18T07:35:18.210888300Z"
    }
   },
   "id": "17271c16a47afd02"
  },
  {
   "cell_type": "code",
   "execution_count": null,
   "outputs": [],
   "source": [],
   "metadata": {
    "collapsed": false
   },
   "id": "c7f68fe3cfaf7115"
  }
 ],
 "metadata": {
  "kernelspec": {
   "display_name": "Python 3",
   "language": "python",
   "name": "python3"
  },
  "language_info": {
   "codemirror_mode": {
    "name": "ipython",
    "version": 2
   },
   "file_extension": ".py",
   "mimetype": "text/x-python",
   "name": "python",
   "nbconvert_exporter": "python",
   "pygments_lexer": "ipython2",
   "version": "2.7.6"
  }
 },
 "nbformat": 4,
 "nbformat_minor": 5
}
