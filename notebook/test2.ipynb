{
 "cells": [
  {
   "cell_type": "code",
   "execution_count": 1,
   "id": "initial_id",
   "metadata": {
    "collapsed": true,
    "ExecuteTime": {
     "end_time": "2024-01-14T16:16:20.701831300Z",
     "start_time": "2024-01-14T16:16:17.997205Z"
    }
   },
   "outputs": [
    {
     "name": "stdout",
     "output_type": "stream",
     "text": [
      "Cannot import deform_conv_ext. Error: . You may need to: \n",
      " 1. compile with BASICSR_EXT=True. or\n",
      " 2. set BASICSR_JIT=True during running\n",
      "Cannot import deform_conv_ext. Error: . You may need to: \n",
      " 1. compile with BASICSR_EXT=True. or\n",
      " 2. set BASICSR_JIT=True during running\n",
      "E://DeepLearningCopies//2023//RIDCP//datasets//rgb_500\\0001.jpg\n"
     ]
    }
   ],
   "source": [
    "from basicsr.data.data_util import make_dataset\n",
    "from os import path as osp\n",
    "\n",
    "\n",
    "gt_paths = make_dataset(\"E://DeepLearningCopies//2023//RIDCP//datasets//rgb_500\")\n",
    "lq_path = gt_paths[0]\n",
    "print(lq_path)"
   ]
  },
  {
   "cell_type": "code",
   "execution_count": 4,
   "outputs": [
    {
     "data": {
      "text/plain": "'0001.jpg'"
     },
     "execution_count": 4,
     "metadata": {},
     "output_type": "execute_result"
    }
   ],
   "source": [
    "a = osp.basename(lq_path)\n",
    "a"
   ],
   "metadata": {
    "collapsed": false,
    "ExecuteTime": {
     "end_time": "2024-01-14T16:19:19.769561200Z",
     "start_time": "2024-01-14T16:19:19.759830700Z"
    }
   },
   "id": "5e6627754bf95d22"
  },
  {
   "cell_type": "code",
   "execution_count": 5,
   "outputs": [
    {
     "data": {
      "text/plain": "'0001'"
     },
     "execution_count": 5,
     "metadata": {},
     "output_type": "execute_result"
    }
   ],
   "source": [
    "osp.splitext(a)[0]"
   ],
   "metadata": {
    "collapsed": false,
    "ExecuteTime": {
     "end_time": "2024-01-14T16:19:23.975845500Z",
     "start_time": "2024-01-14T16:19:23.972361900Z"
    }
   },
   "id": "90789aaf620bd1dd"
  },
  {
   "cell_type": "code",
   "execution_count": null,
   "outputs": [],
   "source": [],
   "metadata": {
    "collapsed": false
   },
   "id": "c5675b2a9c9bb6f3"
  }
 ],
 "metadata": {
  "kernelspec": {
   "display_name": "Python 3",
   "language": "python",
   "name": "python3"
  },
  "language_info": {
   "codemirror_mode": {
    "name": "ipython",
    "version": 2
   },
   "file_extension": ".py",
   "mimetype": "text/x-python",
   "name": "python",
   "nbconvert_exporter": "python",
   "pygments_lexer": "ipython2",
   "version": "2.7.6"
  }
 },
 "nbformat": 4,
 "nbformat_minor": 5
}
