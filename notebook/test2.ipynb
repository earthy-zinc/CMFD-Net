{
 "cells": [
  {
   "cell_type": "code",
   "execution_count": 15,
   "id": "initial_id",
   "metadata": {
    "collapsed": true,
    "ExecuteTime": {
     "end_time": "2024-01-15T03:55:15.207427300Z",
     "start_time": "2024-01-15T03:55:14.711718400Z"
    }
   },
   "outputs": [
    {
     "name": "stdout",
     "output_type": "stream",
     "text": [
      "----------------------------------------------------------------\n",
      "        Layer (type)               Output Shape         Param #\n",
      "================================================================\n",
      "            Conv2d-1           [4, 512, 32, 32]         262,656\n",
      "              ReLU-2           [4, 512, 32, 32]               0\n",
      "================================================================\n",
      "Total params: 262,656\n",
      "Trainable params: 262,656\n",
      "Non-trainable params: 0\n",
      "----------------------------------------------------------------\n",
      "Input size (MB): 32.00\n",
      "Forward/backward pass size (MB): 32.00\n",
      "Params size (MB): 1.00\n",
      "Estimated Total Size (MB): 65.00\n",
      "----------------------------------------------------------------\n"
     ]
    }
   ],
   "source": [
    "from torch import nn\n",
    "from basicsr.archs.module import VGGFeatureExtractor\n",
    "from torchsummary import summary\n",
    "\n",
    "vgg_feat_layer = 'relu5_4'\n",
    "vgg_feat_extractor = VGGFeatureExtractor([vgg_feat_layer])\n",
    "\n",
    "conv_semantic = nn.Sequential(\n",
    "    nn.Conv2d(512, 512, 1, 2, 0),\n",
    "    nn.ReLU(),\n",
    ")\n",
    "\n",
    "summary(model=conv_semantic, input_size=(512, 64, 64), batch_size=4, device=\"cpu\")"
   ]
  },
  {
   "cell_type": "code",
   "execution_count": 19,
   "outputs": [
    {
     "name": "stdout",
     "output_type": "stream",
     "text": [
      "{'HazeOnlineDataset': <class 'basicsr.data.haze_online_dataset.HazeOnlineDataset'>}\n"
     ]
    },
    {
     "ename": "KeyError",
     "evalue": "\"No object named 'Flickr2KDataset' found in 'dataset' registry!\"",
     "output_type": "error",
     "traceback": [
      "\u001B[1;31m---------------------------------------------------------------------------\u001B[0m",
      "\u001B[1;31mKeyError\u001B[0m                                  Traceback (most recent call last)",
      "Cell \u001B[1;32mIn[19], line 8\u001B[0m\n\u001B[0;32m      6\u001B[0m     opt \u001B[38;5;241m=\u001B[39m yaml\u001B[38;5;241m.\u001B[39mload(f, Loader\u001B[38;5;241m=\u001B[39mordered_yaml()[\u001B[38;5;241m0\u001B[39m])\n\u001B[0;32m      7\u001B[0m dataset_opt \u001B[38;5;241m=\u001B[39m opt[\u001B[38;5;124m'\u001B[39m\u001B[38;5;124mdatasets\u001B[39m\u001B[38;5;124m'\u001B[39m][\u001B[38;5;124m\"\u001B[39m\u001B[38;5;124mtrain\u001B[39m\u001B[38;5;124m\"\u001B[39m]\n\u001B[1;32m----> 8\u001B[0m train_set \u001B[38;5;241m=\u001B[39m \u001B[43mbuild_dataset\u001B[49m\u001B[43m(\u001B[49m\u001B[43mdataset_opt\u001B[49m\u001B[43m)\u001B[49m\n",
      "File \u001B[1;32mE:\\DeepLearningCopies\\2023\\RIDCP\\basicsr\\data\\__init__.py:34\u001B[0m, in \u001B[0;36mbuild_dataset\u001B[1;34m(dataset_opt)\u001B[0m\n\u001B[0;32m     26\u001B[0m \u001B[38;5;250m\u001B[39m\u001B[38;5;124;03m\"\"\"Build dataset from options.\u001B[39;00m\n\u001B[0;32m     27\u001B[0m \n\u001B[0;32m     28\u001B[0m \u001B[38;5;124;03mArgs:\u001B[39;00m\n\u001B[1;32m   (...)\u001B[0m\n\u001B[0;32m     31\u001B[0m \u001B[38;5;124;03m        type (str): Dataset type.\u001B[39;00m\n\u001B[0;32m     32\u001B[0m \u001B[38;5;124;03m\"\"\"\u001B[39;00m\n\u001B[0;32m     33\u001B[0m dataset_opt \u001B[38;5;241m=\u001B[39m deepcopy(dataset_opt)\n\u001B[1;32m---> 34\u001B[0m dataset \u001B[38;5;241m=\u001B[39m \u001B[43mDATASET_REGISTRY\u001B[49m\u001B[38;5;241;43m.\u001B[39;49m\u001B[43mget\u001B[49m\u001B[43m(\u001B[49m\u001B[43mdataset_opt\u001B[49m\u001B[43m[\u001B[49m\u001B[38;5;124;43m'\u001B[39;49m\u001B[38;5;124;43mtype\u001B[39;49m\u001B[38;5;124;43m'\u001B[39;49m\u001B[43m]\u001B[49m\u001B[43m)\u001B[49m(dataset_opt)\n\u001B[0;32m     35\u001B[0m logger \u001B[38;5;241m=\u001B[39m get_root_logger()\n\u001B[0;32m     36\u001B[0m logger\u001B[38;5;241m.\u001B[39minfo(\u001B[38;5;124mf\u001B[39m\u001B[38;5;124m'\u001B[39m\u001B[38;5;124m数据集 [\u001B[39m\u001B[38;5;132;01m{\u001B[39;00mdataset\u001B[38;5;241m.\u001B[39m\u001B[38;5;18m__class__\u001B[39m\u001B[38;5;241m.\u001B[39m\u001B[38;5;18m__name__\u001B[39m\u001B[38;5;132;01m}\u001B[39;00m\u001B[38;5;124m] - \u001B[39m\u001B[38;5;132;01m{\u001B[39;00mdataset_opt[\u001B[38;5;124m\"\u001B[39m\u001B[38;5;124mname\u001B[39m\u001B[38;5;124m\"\u001B[39m]\u001B[38;5;132;01m}\u001B[39;00m\u001B[38;5;124m \u001B[39m\u001B[38;5;124m'\u001B[39m \u001B[38;5;124m'\u001B[39m\u001B[38;5;124m已构建完成\u001B[39m\u001B[38;5;124m'\u001B[39m)\n",
      "File \u001B[1;32mE:\\DeepLearningCopies\\2023\\RIDCP\\basicsr\\utils\\registry.py:66\u001B[0m, in \u001B[0;36mRegistry.get\u001B[1;34m(self, name)\u001B[0m\n\u001B[0;32m     64\u001B[0m \u001B[38;5;66;03m# print(self._obj_map)\u001B[39;00m\n\u001B[0;32m     65\u001B[0m \u001B[38;5;28;01mif\u001B[39;00m ret \u001B[38;5;129;01mis\u001B[39;00m \u001B[38;5;28;01mNone\u001B[39;00m:\n\u001B[1;32m---> 66\u001B[0m     \u001B[38;5;28;01mraise\u001B[39;00m \u001B[38;5;167;01mKeyError\u001B[39;00m(\u001B[38;5;124mf\u001B[39m\u001B[38;5;124m\"\u001B[39m\u001B[38;5;124mNo object named \u001B[39m\u001B[38;5;124m'\u001B[39m\u001B[38;5;132;01m{\u001B[39;00mname\u001B[38;5;132;01m}\u001B[39;00m\u001B[38;5;124m'\u001B[39m\u001B[38;5;124m found in \u001B[39m\u001B[38;5;124m'\u001B[39m\u001B[38;5;132;01m{\u001B[39;00m\u001B[38;5;28mself\u001B[39m\u001B[38;5;241m.\u001B[39m_name\u001B[38;5;132;01m}\u001B[39;00m\u001B[38;5;124m'\u001B[39m\u001B[38;5;124m registry!\u001B[39m\u001B[38;5;124m\"\u001B[39m)\n\u001B[0;32m     67\u001B[0m \u001B[38;5;28;01mreturn\u001B[39;00m ret\n",
      "\u001B[1;31mKeyError\u001B[0m: \"No object named 'Flickr2KDataset' found in 'dataset' registry!\""
     ]
    }
   ],
   "source": [
    "from basicsr.utils.options import ordered_yaml\n",
    "import yaml\n",
    "from basicsr import build_dataset\n",
    "\n",
    "with open(\"../options/HQPs_pretrain.yml\", mode='r') as f:\n",
    "    opt = yaml.load(f, Loader=ordered_yaml()[0])\n",
    "dataset_opt = opt['datasets'][\"train\"]\n",
    "train_set = build_dataset(dataset_opt)"
   ],
   "metadata": {
    "collapsed": false,
    "ExecuteTime": {
     "end_time": "2024-01-15T04:41:07.936091200Z",
     "start_time": "2024-01-15T04:41:07.916154400Z"
    }
   },
   "id": "5e6627754bf95d22"
  },
  {
   "cell_type": "code",
   "execution_count": 20,
   "outputs": [
    {
     "ename": "AttributeError",
     "evalue": "'HazeOnlineDataset' object has no attribute 'show_img_example'",
     "output_type": "error",
     "traceback": [
      "\u001B[1;31m---------------------------------------------------------------------------\u001B[0m",
      "\u001B[1;31mAttributeError\u001B[0m                            Traceback (most recent call last)",
      "Cell \u001B[1;32mIn[20], line 1\u001B[0m\n\u001B[1;32m----> 1\u001B[0m \u001B[43mtrain_set\u001B[49m\u001B[38;5;241;43m.\u001B[39;49m\u001B[43mshow_img_example\u001B[49m()\n",
      "\u001B[1;31mAttributeError\u001B[0m: 'HazeOnlineDataset' object has no attribute 'show_img_example'"
     ]
    }
   ],
   "source": [
    "train_set.show_img_example()"
   ],
   "metadata": {
    "collapsed": false,
    "ExecuteTime": {
     "end_time": "2024-01-15T04:41:34.975267600Z",
     "start_time": "2024-01-15T04:41:34.965966200Z"
    }
   },
   "id": "90789aaf620bd1dd"
  },
  {
   "cell_type": "code",
   "execution_count": null,
   "outputs": [],
   "source": [],
   "metadata": {
    "collapsed": false
   },
   "id": "c5675b2a9c9bb6f3"
  }
 ],
 "metadata": {
  "kernelspec": {
   "display_name": "Python 3",
   "language": "python",
   "name": "python3"
  },
  "language_info": {
   "codemirror_mode": {
    "name": "ipython",
    "version": 2
   },
   "file_extension": ".py",
   "mimetype": "text/x-python",
   "name": "python",
   "nbconvert_exporter": "python",
   "pygments_lexer": "ipython2",
   "version": "2.7.6"
  }
 },
 "nbformat": 4,
 "nbformat_minor": 5
}
